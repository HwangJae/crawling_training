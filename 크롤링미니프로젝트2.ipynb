{
 "cells": [
  {
   "cell_type": "code",
   "execution_count": 49,
   "metadata": {},
   "outputs": [
    {
     "name": "stdout",
     "output_type": "stream",
     "text": [
      "Requirement already satisfied: selenium in c:\\users\\user\\anaconda3\\lib\\site-packages (3.141.0)\n",
      "Requirement already satisfied: urllib3 in c:\\users\\user\\anaconda3\\lib\\site-packages (from selenium) (1.25.8)\n"
     ]
    }
   ],
   "source": [
    "!pip install selenium"
   ]
  },
  {
   "cell_type": "code",
   "execution_count": 50,
   "metadata": {},
   "outputs": [],
   "source": [
    "from bs4 import BeautifulSoup\n",
    "import requests\n",
    "import pandas as pd\n",
    "from selenium import webdriver\n",
    "from selenium.webdriver.chrome.options import Options\n",
    "import time\n",
    "import os"
   ]
  },
  {
   "cell_type": "code",
   "execution_count": 51,
   "metadata": {},
   "outputs": [],
   "source": [
    "base_url = 'https://www.tripadvisor.co.kr'\n",
    "seoul_url = '/Attractions-g294197-Activities-Seoul.html'\n"
   ]
  },
  {
   "cell_type": "code",
   "execution_count": 52,
   "metadata": {},
   "outputs": [],
   "source": [
    "options = Options()\n",
    "options.headless = True # 크롬창이 따로 열리지 않음\n",
    "browser = webdriver.Chrome(options=options)\n",
    "browser.implicitly_wait(3) # 3초 기다려라\n",
    "# browser.get(base_url+seoul_url)\n",
    "browser.get('https://www.tripadvisor.co.kr/Attractions-g294197-Activities-a_allAttractions.true-Seoul.html')\n",
    "time.sleep(5) # 5초 기다려라\n",
    "# BeautifulSoup을 활용하여 데이터 파싱\n",
    "html = browser.page_source\n",
    "soup = BeautifulSoup(html, 'html.parser')\n",
    "# soup"
   ]
  },
  {
   "cell_type": "code",
   "execution_count": 56,
   "metadata": {},
   "outputs": [
    {
     "data": {
      "text/plain": [
       "[<a class=\"_1QKQOve4\" href=\"/Attraction_Review-g294197-d324888-Reviews-Gyeongbokgung_Palace-Seoul.html\" target=\"_blank\"><h2>경복궁</h2></a>,\n",
       " <a class=\"_1QKQOve4\" href=\"/Attraction_Review-g294197-d554528-Reviews-Bukhansan_National_Park-Seoul.html\" target=\"_blank\"><h2>북한산 국립공원</h2></a>,\n",
       " <a class=\"_1QKQOve4\" href=\"/Attraction_Review-g294197-d553546-Reviews-Myeongdong_Shopping_Street-Seoul.html\" target=\"_blank\"><h2>명동 쇼핑 거리</h2></a>,\n",
       " <a class=\"_1QKQOve4\" href=\"/Attraction_Review-g294197-d320359-Reviews-Changdeokgung_Palace-Seoul.html\" target=\"_blank\"><h2>창덕궁</h2></a>,\n",
       " <a class=\"_1QKQOve4\" href=\"/Attraction_Review-g294197-d554537-Reviews-The_War_Memorial_of_Korea-Seoul.html\" target=\"_blank\"><h2>한국 전쟁 기념관</h2></a>,\n",
       " <a class=\"_1QKQOve4\" href=\"/Attraction_Review-g294197-d325043-Reviews-National_Museum_of_Korea-Seoul.html\" target=\"_blank\"><h2>국립중앙박물관</h2></a>,\n",
       " <a class=\"_1QKQOve4\" href=\"/Attraction_Review-g294197-d592506-Reviews-Insadong-Seoul.html\" target=\"_blank\"><h2>인사동</h2></a>,\n",
       " <a class=\"_1QKQOve4\" href=\"/Attraction_Review-g294197-d2203080-Reviews-Trickeye_Museum_Seoul-Seoul.html\" target=\"_blank\"><h2>트릭아이뮤지엄 서울</h2></a>,\n",
       " <a class=\"_1QKQOve4\" href=\"/Attraction_Review-g294197-d8842556-Reviews-Lotte_World_Tower_Mall-Seoul.html\" target=\"_blank\"><h2>롯데월드타워&amp;몰</h2></a>,\n",
       " <a class=\"_1QKQOve4\" href=\"/Attraction_Review-g294197-d3322253-Reviews-KTX_Korea_Train_Express-Seoul.html\" target=\"_blank\"><h2>KTX</h2></a>,\n",
       " <a class=\"_1QKQOve4\" href=\"/Attraction_Review-g294197-d2194168-Reviews-Seoul_Metro-Seoul.html\" target=\"_blank\"><h2>서울메트로</h2></a>,\n",
       " <a class=\"_1QKQOve4\" href=\"/Attraction_Review-g294197-d1519813-Reviews-Hangang_Park-Seoul.html\" target=\"_blank\"><h2>한강 공원</h2></a>,\n",
       " <a class=\"_1QKQOve4\" href=\"/Attraction_Review-g294197-d1169465-Reviews-N_Seoul_Tower-Seoul.html\" target=\"_blank\"><h2>N 서울 타워</h2></a>,\n",
       " <a class=\"_1QKQOve4\" href=\"/Attraction_Review-g294197-d554582-Reviews-Namsan_Park-Seoul.html\" target=\"_blank\"><h2>남산 공원</h2></a>,\n",
       " <a class=\"_1QKQOve4\" href=\"/Attraction_Review-g294197-d324915-Reviews-Myeongdong_NANTA_Theater-Seoul.html\" target=\"_blank\"><h2>명동난타극장</h2></a>,\n",
       " <a class=\"_1QKQOve4\" href=\"/Attraction_Review-g294197-d1046419-Reviews-Cheonggyecheon_Stream-Seoul.html\" target=\"_blank\"><h2>청계천</h2></a>,\n",
       " <a class=\"_1QKQOve4\" href=\"/Attraction_Review-g294197-d1235392-Reviews-Jogyesa_Temple-Seoul.html\" target=\"_blank\"><h2>조계사</h2></a>,\n",
       " <a class=\"_1QKQOve4\" href=\"/Attraction_Review-g294197-d592486-Reviews-Bongeunsa_Temple-Seoul.html\" target=\"_blank\"><h2>봉은사</h2></a>,\n",
       " <a class=\"_1QKQOve4\" href=\"/Attraction_Review-g294197-d4094861-Reviews-Haneul_Park-Seoul.html\" target=\"_blank\"><h2>하늘공원</h2></a>,\n",
       " <a class=\"_1QKQOve4\" href=\"/Attraction_Review-g294197-d1379963-Reviews-Bukchon_Hanok_Village-Seoul.html\" target=\"_blank\"><h2>북촌 한옥마을</h2></a>,\n",
       " <a class=\"_1QKQOve4\" href=\"/Attraction_Review-g294197-d1958940-Reviews-Hongik_University_Street-Seoul.html\" target=\"_blank\"><h2>홍대앞 거리</h2></a>,\n",
       " <a class=\"_1QKQOve4\" href=\"/Attraction_Review-g294197-d1862191-Reviews-Ewha_Womans_University-Seoul.html\" target=\"_blank\"><h2>이화여자대학교</h2></a>,\n",
       " <a class=\"_1QKQOve4\" href=\"/Attraction_Review-g294197-d6671988-Reviews-Dongdaemun_Design_Plaza_DDP-Seoul.html\" target=\"_blank\"><h2>동대문 디자인 플라자</h2></a>,\n",
       " <a class=\"_1QKQOve4\" href=\"/Attraction_Review-g294197-d12635586-Reviews-Starfield_Library-Seoul.html\" target=\"_blank\"><h2>별마당 도서관</h2></a>,\n",
       " <a class=\"_1QKQOve4\" href=\"/Attraction_Review-g294197-d1552278-Reviews-Kwangjang_Market-Seoul.html\" target=\"_blank\"><h2>광장시장</h2></a>,\n",
       " <a class=\"_1QKQOve4\" href=\"/Attraction_Review-g294197-d10794564-Reviews-Love_Museum-Seoul.html\" target=\"_blank\"><h2>러브뮤지엄</h2></a>,\n",
       " <a class=\"_1QKQOve4\" href=\"/Attraction_Review-g294197-d4798711-Reviews-Seoul_Forest-Seoul.html\" target=\"_blank\"><h2>서울숲</h2></a>,\n",
       " <a class=\"_1QKQOve4\" href=\"/Attraction_Review-g294197-d4798715-Reviews-Yeouido_Hangang_Park-Seoul.html\" target=\"_blank\"><h2>여의도 한강공원</h2></a>,\n",
       " <a class=\"_1QKQOve4\" href=\"/Attraction_Review-g294197-d598499-Reviews-Leeum_Samsung_Museum_of_Art-Seoul.html\" target=\"_blank\"><h2>삼성미술관 리움</h2></a>,\n",
       " <a class=\"_1QKQOve4\" href=\"/Attraction_Review-g294197-d12309166-Reviews-Seoul_Sky-Seoul.html\" target=\"_blank\"><h2>서울스카이</h2></a>]"
      ]
     },
     "execution_count": 56,
     "metadata": {},
     "output_type": "execute_result"
    }
   ],
   "source": [
    "# <a href=\"/Attraction_Review-g294197-d324888-Reviews-Gyeongbokgung_Palace-Seoul.html\" target=\"_blank\" class=\"_1QKQOve4\"><h2>경복궁</h2></a>\n",
    "# <div class=\"ahBtNmnH\"><div class=\"_1pEzc5jw\"><span class=\"_3zTGhJc6\"><span class=\"_21qUqkJx\">박물관</span></span></div></div>\n",
    "lists = soup.findAll('a', {'class' : '_1QKQOve4'}) \n",
    "lists"
   ]
  },
  {
   "cell_type": "markdown",
   "metadata": {},
   "source": [
    "# 명소 이름 파싱한 것을 리스트로 만들기"
   ]
  },
  {
   "cell_type": "code",
   "execution_count": 54,
   "metadata": {},
   "outputs": [
    {
     "name": "stdout",
     "output_type": "stream",
     "text": [
      "['경복궁', '북한산 국립공원', '명동 쇼핑 거리', '창덕궁', '한국 전쟁 기념관', '국립중앙박물관', '인사동', '트릭아이뮤지엄 서울', '롯데월드타워&몰', 'KTX', '서울메트로', '한강 공원', 'N 서울 타워', '남산 공원', '명동난타극장', '청계천', '조계사', '봉은사', '하늘공원', '북촌 한옥마을', '홍대앞 거리', '이화여자대학교', '동대문 디자인 플라자', '별마당 도서관', '광장시장', '러브뮤지엄', '서울숲', '여의도 한강공원', '삼성미술관 리움', '서울스카이']\n"
     ]
    }
   ],
   "source": [
    "rest_name_list = []\n",
    "for item in lists:\n",
    "    name = item.text\n",
    "    rest_name_list.append(name)\n",
    "print(rest_name_list)"
   ]
  },
  {
   "cell_type": "markdown",
   "metadata": {},
   "source": [
    "# url 주소 파싱한 것을 리스트로 만들기"
   ]
  },
  {
   "cell_type": "code",
   "execution_count": 76,
   "metadata": {},
   "outputs": [],
   "source": [
    "rest_url_list = []\n",
    "for item in lists:\n",
    "    hrefs = item\n",
    "#   print(href)\n",
    "#  링크 가져오기\n",
    "    href = hrefs.get('href')\n",
    "    full_url = base_url + href\n",
    "    rest_url = full_url\n",
    "    rest_url_list.append(rest_url)"
   ]
  },
  {
   "cell_type": "code",
   "execution_count": 77,
   "metadata": {},
   "outputs": [
    {
     "data": {
      "text/plain": [
       "['https://www.tripadvisor.co.kr/Attraction_Review-g294197-d324888-Reviews-Gyeongbokgung_Palace-Seoul.html',\n",
       " 'https://www.tripadvisor.co.kr/Attraction_Review-g294197-d554528-Reviews-Bukhansan_National_Park-Seoul.html',\n",
       " 'https://www.tripadvisor.co.kr/Attraction_Review-g294197-d553546-Reviews-Myeongdong_Shopping_Street-Seoul.html',\n",
       " 'https://www.tripadvisor.co.kr/Attraction_Review-g294197-d320359-Reviews-Changdeokgung_Palace-Seoul.html',\n",
       " 'https://www.tripadvisor.co.kr/Attraction_Review-g294197-d554537-Reviews-The_War_Memorial_of_Korea-Seoul.html',\n",
       " 'https://www.tripadvisor.co.kr/Attraction_Review-g294197-d325043-Reviews-National_Museum_of_Korea-Seoul.html',\n",
       " 'https://www.tripadvisor.co.kr/Attraction_Review-g294197-d592506-Reviews-Insadong-Seoul.html',\n",
       " 'https://www.tripadvisor.co.kr/Attraction_Review-g294197-d2203080-Reviews-Trickeye_Museum_Seoul-Seoul.html',\n",
       " 'https://www.tripadvisor.co.kr/Attraction_Review-g294197-d8842556-Reviews-Lotte_World_Tower_Mall-Seoul.html',\n",
       " 'https://www.tripadvisor.co.kr/Attraction_Review-g294197-d3322253-Reviews-KTX_Korea_Train_Express-Seoul.html',\n",
       " 'https://www.tripadvisor.co.kr/Attraction_Review-g294197-d2194168-Reviews-Seoul_Metro-Seoul.html',\n",
       " 'https://www.tripadvisor.co.kr/Attraction_Review-g294197-d1519813-Reviews-Hangang_Park-Seoul.html',\n",
       " 'https://www.tripadvisor.co.kr/Attraction_Review-g294197-d1169465-Reviews-N_Seoul_Tower-Seoul.html',\n",
       " 'https://www.tripadvisor.co.kr/Attraction_Review-g294197-d554582-Reviews-Namsan_Park-Seoul.html',\n",
       " 'https://www.tripadvisor.co.kr/Attraction_Review-g294197-d324915-Reviews-Myeongdong_NANTA_Theater-Seoul.html',\n",
       " 'https://www.tripadvisor.co.kr/Attraction_Review-g294197-d1046419-Reviews-Cheonggyecheon_Stream-Seoul.html',\n",
       " 'https://www.tripadvisor.co.kr/Attraction_Review-g294197-d1235392-Reviews-Jogyesa_Temple-Seoul.html',\n",
       " 'https://www.tripadvisor.co.kr/Attraction_Review-g294197-d592486-Reviews-Bongeunsa_Temple-Seoul.html',\n",
       " 'https://www.tripadvisor.co.kr/Attraction_Review-g294197-d4094861-Reviews-Haneul_Park-Seoul.html',\n",
       " 'https://www.tripadvisor.co.kr/Attraction_Review-g294197-d1379963-Reviews-Bukchon_Hanok_Village-Seoul.html',\n",
       " 'https://www.tripadvisor.co.kr/Attraction_Review-g294197-d1958940-Reviews-Hongik_University_Street-Seoul.html',\n",
       " 'https://www.tripadvisor.co.kr/Attraction_Review-g294197-d1862191-Reviews-Ewha_Womans_University-Seoul.html',\n",
       " 'https://www.tripadvisor.co.kr/Attraction_Review-g294197-d6671988-Reviews-Dongdaemun_Design_Plaza_DDP-Seoul.html',\n",
       " 'https://www.tripadvisor.co.kr/Attraction_Review-g294197-d12635586-Reviews-Starfield_Library-Seoul.html',\n",
       " 'https://www.tripadvisor.co.kr/Attraction_Review-g294197-d1552278-Reviews-Kwangjang_Market-Seoul.html',\n",
       " 'https://www.tripadvisor.co.kr/Attraction_Review-g294197-d10794564-Reviews-Love_Museum-Seoul.html',\n",
       " 'https://www.tripadvisor.co.kr/Attraction_Review-g294197-d4798711-Reviews-Seoul_Forest-Seoul.html',\n",
       " 'https://www.tripadvisor.co.kr/Attraction_Review-g294197-d4798715-Reviews-Yeouido_Hangang_Park-Seoul.html',\n",
       " 'https://www.tripadvisor.co.kr/Attraction_Review-g294197-d598499-Reviews-Leeum_Samsung_Museum_of_Art-Seoul.html',\n",
       " 'https://www.tripadvisor.co.kr/Attraction_Review-g294197-d12309166-Reviews-Seoul_Sky-Seoul.html']"
      ]
     },
     "execution_count": 77,
     "metadata": {},
     "output_type": "execute_result"
    }
   ],
   "source": [
    "rest_url_list"
   ]
  },
  {
   "cell_type": "code",
   "execution_count": 78,
   "metadata": {},
   "outputs": [
    {
     "data": {
      "text/plain": [
       "30"
      ]
     },
     "execution_count": 78,
     "metadata": {},
     "output_type": "execute_result"
    }
   ],
   "source": [
    "len(rest_url_list)"
   ]
  },
  {
   "cell_type": "code",
   "execution_count": 81,
   "metadata": {},
   "outputs": [
    {
     "data": {
      "text/plain": [
       "[1,\n",
       " 2,\n",
       " 3,\n",
       " 4,\n",
       " 5,\n",
       " 6,\n",
       " 7,\n",
       " 8,\n",
       " 9,\n",
       " 10,\n",
       " 11,\n",
       " 12,\n",
       " 13,\n",
       " 14,\n",
       " 15,\n",
       " 16,\n",
       " 17,\n",
       " 18,\n",
       " 19,\n",
       " 20,\n",
       " 21,\n",
       " 22,\n",
       " 23,\n",
       " 24,\n",
       " 25,\n",
       " 26,\n",
       " 27,\n",
       " 28,\n",
       " 29,\n",
       " 30]"
      ]
     },
     "execution_count": 81,
     "metadata": {},
     "output_type": "execute_result"
    }
   ],
   "source": [
    "list_num = list(range(1,31))\n",
    "list_num"
   ]
  },
  {
   "cell_type": "code",
   "execution_count": 82,
   "metadata": {},
   "outputs": [],
   "source": [
    "df = pd.DataFrame(data = {'[ID]': list_num , '[장소]': rest_name_list, '[url]':rest_url_list})"
   ]
  },
  {
   "cell_type": "code",
   "execution_count": 85,
   "metadata": {},
   "outputs": [
    {
     "data": {
      "text/html": [
       "<div>\n",
       "<style scoped>\n",
       "    .dataframe tbody tr th:only-of-type {\n",
       "        vertical-align: middle;\n",
       "    }\n",
       "\n",
       "    .dataframe tbody tr th {\n",
       "        vertical-align: top;\n",
       "    }\n",
       "\n",
       "    .dataframe thead th {\n",
       "        text-align: right;\n",
       "    }\n",
       "</style>\n",
       "<table border=\"1\" class=\"dataframe\">\n",
       "  <thead>\n",
       "    <tr style=\"text-align: right;\">\n",
       "      <th></th>\n",
       "      <th>[ID]</th>\n",
       "      <th>[장소]</th>\n",
       "      <th>[url]</th>\n",
       "    </tr>\n",
       "  </thead>\n",
       "  <tbody>\n",
       "    <tr>\n",
       "      <th>0</th>\n",
       "      <td>1</td>\n",
       "      <td>경복궁</td>\n",
       "      <td>https://www.tripadvisor.co.kr/Attraction_Revie...</td>\n",
       "    </tr>\n",
       "    <tr>\n",
       "      <th>1</th>\n",
       "      <td>2</td>\n",
       "      <td>북한산 국립공원</td>\n",
       "      <td>https://www.tripadvisor.co.kr/Attraction_Revie...</td>\n",
       "    </tr>\n",
       "    <tr>\n",
       "      <th>2</th>\n",
       "      <td>3</td>\n",
       "      <td>명동 쇼핑 거리</td>\n",
       "      <td>https://www.tripadvisor.co.kr/Attraction_Revie...</td>\n",
       "    </tr>\n",
       "    <tr>\n",
       "      <th>3</th>\n",
       "      <td>4</td>\n",
       "      <td>창덕궁</td>\n",
       "      <td>https://www.tripadvisor.co.kr/Attraction_Revie...</td>\n",
       "    </tr>\n",
       "    <tr>\n",
       "      <th>4</th>\n",
       "      <td>5</td>\n",
       "      <td>한국 전쟁 기념관</td>\n",
       "      <td>https://www.tripadvisor.co.kr/Attraction_Revie...</td>\n",
       "    </tr>\n",
       "  </tbody>\n",
       "</table>\n",
       "</div>"
      ],
      "text/plain": [
       "   [ID]       [장소]                                              [url]\n",
       "0     1        경복궁  https://www.tripadvisor.co.kr/Attraction_Revie...\n",
       "1     2   북한산 국립공원  https://www.tripadvisor.co.kr/Attraction_Revie...\n",
       "2     3   명동 쇼핑 거리  https://www.tripadvisor.co.kr/Attraction_Revie...\n",
       "3     4        창덕궁  https://www.tripadvisor.co.kr/Attraction_Revie...\n",
       "4     5  한국 전쟁 기념관  https://www.tripadvisor.co.kr/Attraction_Revie..."
      ]
     },
     "execution_count": 85,
     "metadata": {},
     "output_type": "execute_result"
    }
   ],
   "source": [
    "df.head()"
   ]
  },
  {
   "cell_type": "code",
   "execution_count": 84,
   "metadata": {},
   "outputs": [],
   "source": [
    "df.to_excel('seoul_fplace.xlsx')"
   ]
  }
 ],
 "metadata": {
  "kernelspec": {
   "display_name": "Python 3",
   "language": "python",
   "name": "python3"
  },
  "language_info": {
   "codemirror_mode": {
    "name": "ipython",
    "version": 3
   },
   "file_extension": ".py",
   "mimetype": "text/x-python",
   "name": "python",
   "nbconvert_exporter": "python",
   "pygments_lexer": "ipython3",
   "version": "3.7.6"
  },
  "toc": {
   "base_numbering": 1,
   "nav_menu": {},
   "number_sections": true,
   "sideBar": true,
   "skip_h1_title": false,
   "title_cell": "Table of Contents",
   "title_sidebar": "Contents",
   "toc_cell": false,
   "toc_position": {},
   "toc_section_display": true,
   "toc_window_display": false
  }
 },
 "nbformat": 4,
 "nbformat_minor": 4
}
