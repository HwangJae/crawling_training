{
 "cells": [
  {
   "cell_type": "code",
   "execution_count": 16,
   "metadata": {},
   "outputs": [
    {
     "name": "stdout",
     "output_type": "stream",
     "text": [
      "Requirement already satisfied: selenium in c:\\users\\user\\anaconda3\\lib\\site-packages (3.141.0)\n",
      "Requirement already satisfied: urllib3 in c:\\users\\user\\anaconda3\\lib\\site-packages (from selenium) (1.25.8)\n"
     ]
    }
   ],
   "source": [
    "!pip install selenium"
   ]
  },
  {
   "cell_type": "code",
   "execution_count": 17,
   "metadata": {},
   "outputs": [],
   "source": [
    "from bs4 import BeautifulSoup\n",
    "import requests\n",
    "import pandas as pd\n",
    "from selenium import webdriver\n",
    "from selenium.webdriver.chrome.options import Options\n",
    "import time\n",
    "import os"
   ]
  },
  {
   "cell_type": "code",
   "execution_count": 18,
   "metadata": {},
   "outputs": [],
   "source": [
    "base_url = 'https://www.tripadvisor.co.kr'\n",
    "busan_url = '/Attractions-g297884-Activities-Busan.html'"
   ]
  },
  {
   "cell_type": "code",
   "execution_count": 23,
   "metadata": {},
   "outputs": [],
   "source": [
    "# get html\n",
    "\n",
    "## 크롬창을 직접\n",
    "options = Options()\n",
    "options.headless = True      # 크롬창이 따로 열리지 않음\n",
    "browser = webdriver.Chrome(options=options)\n",
    "browser.implicitly_wait(8) # 3초 기다려라\n",
    "browser.get(base_url+busan_url)\n",
    "time.sleep(10) # 5초 기다려라\n",
    "# BeautifulSoup을 활용하여 데이터 파싱\n",
    "html = browser.page_source\n",
    "soup = BeautifulSoup(html, 'html.parser')\n",
    "# soup"
   ]
  },
  {
   "cell_type": "code",
   "execution_count": 24,
   "metadata": {},
   "outputs": [
    {
     "data": {
      "text/plain": [
       "[<div class=\"ZVAUHZqh\" style='background-image: url(\"https://dynamic-media-cdn.tripadvisor.com/media/photo-o/0e/0d/40/57/photo2jpg.jpg?w=200&amp;h=200&amp;s=1\"); background-size: cover; height: 100%; width: 100%;'></div>,\n",
       " <div class=\"ZVAUHZqh\" style='background-image: url(\"https://dynamic-media-cdn.tripadvisor.com/media/photo-o/17/12/69/d7/photo3jpg.jpg?w=200&amp;h=200&amp;s=1\"); background-size: cover; height: 100%; width: 100%;'></div>,\n",
       " <div class=\"ZVAUHZqh\" style='background-image: url(\"https://dynamic-media-cdn.tripadvisor.com/media/photo-o/0d/cc/76/33/bujeon-market.jpg?w=200&amp;h=200&amp;s=1\"); background-size: cover; height: 100%; width: 100%;'></div>,\n",
       " <div class=\"ZVAUHZqh\" style='background-image: url(\"https://dynamic-media-cdn.tripadvisor.com/media/photo-o/02/3c/4a/2d/caption.jpg?w=200&amp;h=200&amp;s=1\"); background-size: cover; height: 100%; width: 100%;'></div>,\n",
       " <div class=\"ZVAUHZqh\" style='background-image: url(\"https://dynamic-media-cdn.tripadvisor.com/media/photo-o/0a/1f/2f/a3/caption.jpg?w=200&amp;h=200&amp;s=1\"); background-size: cover; height: 100%; width: 100%;'></div>,\n",
       " <div class=\"ZVAUHZqh\" style=\"background-image:none;background-size:cover;height:100%;width:100%\"></div>,\n",
       " <div class=\"ZVAUHZqh\" style=\"background-image:none;background-size:cover;height:100%;width:100%\"></div>,\n",
       " <div class=\"ZVAUHZqh\" style=\"background-image:none;background-size:cover;height:100%;width:100%\"></div>,\n",
       " <div class=\"ZVAUHZqh\" style=\"background-image:none;background-size:cover;height:100%;width:100%\"></div>,\n",
       " <div class=\"ZVAUHZqh\" style=\"background-image:none;background-size:cover;height:100%;width:100%\"></div>,\n",
       " <div class=\"ZVAUHZqh\" style=\"background-image:none;background-size:cover;height:100%;width:100%\"></div>,\n",
       " <div class=\"ZVAUHZqh\" style=\"background-image:none;background-size:cover;height:100%;width:100%\"></div>,\n",
       " <div class=\"ZVAUHZqh\" style=\"background-image:none;background-size:cover;height:100%;width:100%\"></div>,\n",
       " <div class=\"ZVAUHZqh\" style=\"background-image:none;background-size:cover;height:100%;width:100%\"></div>,\n",
       " <div class=\"ZVAUHZqh\" style=\"background-image:none;background-size:cover;height:100%;width:100%\"></div>,\n",
       " <div class=\"ZVAUHZqh\" style=\"background-image:none;background-size:cover;height:100%;width:100%\"></div>,\n",
       " <div class=\"ZVAUHZqh\" style=\"background-image:none;background-size:cover;height:100%;width:100%\"></div>,\n",
       " <div class=\"ZVAUHZqh\" style=\"background-image:none;background-size:cover;height:100%;width:100%\"></div>,\n",
       " <div class=\"ZVAUHZqh\" style=\"background-image:none;background-size:cover;height:100%;width:100%\"></div>,\n",
       " <div class=\"ZVAUHZqh\" style=\"background-image:none;background-size:cover;height:100%;width:100%\"></div>,\n",
       " <div class=\"ZVAUHZqh\" style=\"background-image:none;background-size:cover;height:100%;width:100%\"></div>,\n",
       " <div class=\"ZVAUHZqh\" style=\"background-image:none;background-size:cover;height:100%;width:100%\"></div>,\n",
       " <div class=\"ZVAUHZqh\" style=\"background-image:none;background-size:cover;height:100%;width:100%\"></div>,\n",
       " <div class=\"ZVAUHZqh\" style=\"background-image:none;background-size:cover;height:100%;width:100%\"></div>,\n",
       " <div class=\"ZVAUHZqh\" style=\"background-image:none;background-size:cover;height:100%;width:100%\"></div>,\n",
       " <div class=\"ZVAUHZqh\" style=\"background-image:none;background-size:cover;height:100%;width:100%\"></div>,\n",
       " <div class=\"ZVAUHZqh\" style=\"background-image:none;background-size:cover;height:100%;width:100%\"></div>,\n",
       " <div class=\"ZVAUHZqh\" style=\"background-image:none;background-size:cover;height:100%;width:100%\"></div>,\n",
       " <div class=\"ZVAUHZqh\" style=\"background-image:none;background-size:cover;height:100%;width:100%\"></div>,\n",
       " <div class=\"ZVAUHZqh\" style=\"background-image:none;background-size:cover;height:100%;width:100%\"></div>,\n",
       " <div class=\"ZVAUHZqh\" style=\"background-image:none;background-size:cover;height:100%;width:100%\"></div>,\n",
       " <div class=\"ZVAUHZqh\" style=\"background-image:none;background-size:cover;height:100%;width:100%\"></div>,\n",
       " <div class=\"ZVAUHZqh\" style=\"background-image:none;background-size:cover;height:100%;width:100%\"></div>,\n",
       " <div class=\"ZVAUHZqh\" style=\"background-image:none;background-size:cover;height:100%;width:100%\"></div>,\n",
       " <div class=\"ZVAUHZqh\" style=\"background-image:none;background-size:cover;height:100%;width:100%\"></div>,\n",
       " <div class=\"ZVAUHZqh\" style=\"background-image:none;background-size:cover;height:100%;width:100%\"></div>,\n",
       " <div class=\"ZVAUHZqh\" style=\"background-image:none;background-size:cover;height:100%;width:100%\"></div>,\n",
       " <div class=\"ZVAUHZqh\" style=\"background-image:none;background-size:cover;height:100%;width:100%\"></div>,\n",
       " <div class=\"ZVAUHZqh\" style=\"background-image:none;background-size:cover;height:100%;width:100%\"></div>,\n",
       " <div class=\"ZVAUHZqh\" style=\"background-image:none;background-size:cover;height:100%;width:100%\"></div>,\n",
       " <div class=\"ZVAUHZqh\" style=\"background-image:none;background-size:cover;height:100%;width:100%\"></div>,\n",
       " <div class=\"ZVAUHZqh\" style=\"background-image:none;background-size:cover;height:100%;width:100%\"></div>,\n",
       " <div class=\"ZVAUHZqh\" style=\"background-image:none;background-size:cover;height:100%;width:100%\"></div>,\n",
       " <div class=\"ZVAUHZqh\" style=\"background-image:none;background-size:cover;height:100%;width:100%\"></div>,\n",
       " <div class=\"ZVAUHZqh\" style=\"background-image:none;background-size:cover;height:100%;width:100%\"></div>,\n",
       " <div class=\"ZVAUHZqh\" style=\"background-image:none;background-size:cover;height:100%;width:100%\"></div>,\n",
       " <div class=\"ZVAUHZqh\" style=\"background-image:none;background-size:cover;height:100%;width:100%\"></div>,\n",
       " <div class=\"ZVAUHZqh\" style=\"background-image:none;background-size:cover;height:100%;width:100%\"></div>,\n",
       " <div class=\"ZVAUHZqh\" style=\"background-image:none;background-size:cover;height:100%;width:100%\"></div>,\n",
       " <div class=\"ZVAUHZqh\" style=\"background-image:none;background-size:cover;height:100%;width:100%\"></div>,\n",
       " <div class=\"ZVAUHZqh\" style=\"background-image:none;background-size:cover;height:100%;width:100%\"></div>,\n",
       " <div class=\"ZVAUHZqh\" style=\"background-image:none;background-size:cover;height:100%;width:100%\"></div>,\n",
       " <div class=\"ZVAUHZqh\" style=\"background-image:none;background-size:cover;height:100%;width:100%\"></div>,\n",
       " <div class=\"ZVAUHZqh\" style=\"background-image:none;background-size:cover;height:100%;width:100%\"></div>,\n",
       " <div class=\"ZVAUHZqh\" style=\"background-image:none;background-size:cover;height:100%;width:100%\"></div>,\n",
       " <div class=\"ZVAUHZqh\" style=\"background-image:none;background-size:cover;height:100%;width:100%\"></div>,\n",
       " <div class=\"ZVAUHZqh\" style=\"background-image:none;background-size:cover;height:100%;width:100%\"></div>,\n",
       " <div class=\"ZVAUHZqh\" style=\"background-image:none;background-size:cover;height:100%;width:100%\"></div>,\n",
       " <div class=\"ZVAUHZqh\" style=\"background-image:none;background-size:cover;height:100%;width:100%\"></div>,\n",
       " <div class=\"ZVAUHZqh\" style=\"background-image:none;background-size:cover;height:100%;width:100%\"></div>,\n",
       " <div class=\"ZVAUHZqh\" style=\"background-image:none;background-size:cover;height:100%;width:100%\"></div>,\n",
       " <div class=\"ZVAUHZqh\" style=\"background-image:none;background-size:cover;height:100%;width:100%\"></div>,\n",
       " <div class=\"ZVAUHZqh\" style=\"background-image:none;background-size:cover;height:100%;width:100%\"></div>,\n",
       " <div class=\"ZVAUHZqh\" style=\"background-image:none;background-size:cover;height:100%;width:100%\"></div>,\n",
       " <div class=\"ZVAUHZqh\" style=\"background-image:none;background-size:cover;height:100%;width:100%\"></div>,\n",
       " <div class=\"ZVAUHZqh\" style=\"background-image:none;background-size:cover;height:100%;width:100%\"></div>,\n",
       " <div class=\"ZVAUHZqh\" style=\"background-image:none;background-size:cover;height:100%;width:100%\"></div>]"
      ]
     },
     "execution_count": 24,
     "metadata": {},
     "output_type": "execute_result"
    }
   ],
   "source": [
    "photos = soup.findAll('div', {'class' : 'ZVAUHZqh'})\n",
    "photos"
   ]
  },
  {
   "cell_type": "code",
   "execution_count": 25,
   "metadata": {},
   "outputs": [],
   "source": [
    "img_dir = f\"{os.getcwd()}/img\" # img라는 폴더 만들고 거기에 저장할 것이다.\n",
    "if not os.path.isdir(img_dir):\n",
    "   os.mkdir(img_dir)"
   ]
  },
  {
   "cell_type": "code",
   "execution_count": 26,
   "metadata": {},
   "outputs": [
    {
     "ename": "OSError",
     "evalue": "[Errno 22] Invalid argument: 'img/iphoto2jpg.jpg?w=200&h=200&s=1'",
     "output_type": "error",
     "traceback": [
      "\u001b[1;31m---------------------------------------------------------------------------\u001b[0m",
      "\u001b[1;31mOSError\u001b[0m                                   Traceback (most recent call last)",
      "\u001b[1;32m<ipython-input-26-b4609ef0b777>\u001b[0m in \u001b[0;36m<module>\u001b[1;34m\u001b[0m\n\u001b[0;32m      3\u001b[0m     \u001b[0mimg_file_name\u001b[0m \u001b[1;33m=\u001b[0m \u001b[0murl\u001b[0m\u001b[1;33m.\u001b[0m\u001b[0msplit\u001b[0m\u001b[1;33m(\u001b[0m\u001b[1;34m'/'\u001b[0m\u001b[1;33m)\u001b[0m\u001b[1;33m[\u001b[0m\u001b[1;33m-\u001b[0m\u001b[1;36m1\u001b[0m\u001b[1;33m]\u001b[0m          \u001b[1;31m# 이미지 파일 이름만 가져올 것이다.\u001b[0m\u001b[1;33m\u001b[0m\u001b[1;33m\u001b[0m\u001b[0m\n\u001b[0;32m      4\u001b[0m     \u001b[0mimg_data\u001b[0m \u001b[1;33m=\u001b[0m \u001b[0mrequests\u001b[0m\u001b[1;33m.\u001b[0m\u001b[0mget\u001b[0m\u001b[1;33m(\u001b[0m\u001b[0murl\u001b[0m\u001b[1;33m)\u001b[0m\u001b[1;33m.\u001b[0m\u001b[0mcontent\u001b[0m        \u001b[1;31m#\u001b[0m\u001b[1;33m\u001b[0m\u001b[1;33m\u001b[0m\u001b[0m\n\u001b[1;32m----> 5\u001b[1;33m     \u001b[1;32mwith\u001b[0m \u001b[0mopen\u001b[0m\u001b[1;33m(\u001b[0m\u001b[1;34mf'img/i{img_file_name}'\u001b[0m\u001b[1;33m,\u001b[0m \u001b[1;34m'wb'\u001b[0m\u001b[1;33m)\u001b[0m \u001b[1;32mas\u001b[0m \u001b[0mhandler\u001b[0m\u001b[1;33m:\u001b[0m\u001b[1;33m\u001b[0m\u001b[1;33m\u001b[0m\u001b[0m\n\u001b[0m\u001b[0;32m      6\u001b[0m         \u001b[0mhandler\u001b[0m\u001b[1;33m.\u001b[0m\u001b[0mwrite\u001b[0m\u001b[1;33m(\u001b[0m\u001b[0mimg_data\u001b[0m\u001b[1;33m)\u001b[0m\u001b[1;33m\u001b[0m\u001b[1;33m\u001b[0m\u001b[0m\n",
      "\u001b[1;31mOSError\u001b[0m: [Errno 22] Invalid argument: 'img/iphoto2jpg.jpg?w=200&h=200&s=1'"
     ]
    }
   ],
   "source": [
    "for photo in photos :\n",
    "    url = photo.get('style').split('\"')[1]      # style에있는 거만 가져올거야. style 뒤에만\n",
    "    img_file_name = url.split('/')[-1]          # 이미지 파일 이름만 가져올 것이다.\n",
    "    img_data = requests.get(url).content        #\n",
    "    with open(f'img/i{img_file_name}', 'wb') as handler:\n",
    "        handler.write(img_data)"
   ]
  },
  {
   "cell_type": "code",
   "execution_count": null,
   "metadata": {},
   "outputs": [],
   "source": []
  }
 ],
 "metadata": {
  "kernelspec": {
   "display_name": "Python 3",
   "language": "python",
   "name": "python3"
  },
  "language_info": {
   "codemirror_mode": {
    "name": "ipython",
    "version": 3
   },
   "file_extension": ".py",
   "mimetype": "text/x-python",
   "name": "python",
   "nbconvert_exporter": "python",
   "pygments_lexer": "ipython3",
   "version": "3.7.6"
  },
  "toc": {
   "base_numbering": 1,
   "nav_menu": {},
   "number_sections": true,
   "sideBar": true,
   "skip_h1_title": false,
   "title_cell": "Table of Contents",
   "title_sidebar": "Contents",
   "toc_cell": false,
   "toc_position": {},
   "toc_section_display": true,
   "toc_window_display": false
  }
 },
 "nbformat": 4,
 "nbformat_minor": 4
}
